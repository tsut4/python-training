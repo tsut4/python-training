{
 "cells": [
  {
   "cell_type": "markdown",
   "metadata": {},
   "source": [
    "## for文関連のおさらい\n",
    "* [for-else文](#for-else)\n",
    "* [range関数](#range-function)\n",
    "* [enumerate関数](#enumerate-function)\n",
    "* [zip関数](#zip-function)\n",
    "* [辞書のfor文処理](#processing-of-dictionary-for-statement)\n",
    "\n",
    "## if文関連のおさらい\n",
    "* [Noneの判定](#determination-of-none)\n",
    "\n",
    "## 関数定義関連\n",
    "* [基本](#basic)\n",
    "* [型の定義](#type-definition)\n",
    "* [デフォルト引数にリストを与えるべきではない](#default-argument)\n",
    "* [位置引数のタプル化](#tuple-of-positional-arguments)\n",
    "* [キーワード引数](#keyword-arguments)\n",
    "* [引数、位置引数、キーワード引数が混在のパターン](#mixed-arguments)\n",
    "* [inner function(関数内関数)](#inner-fucntion)\n",
    "* [クロージャー](#closures)\n",
    "* [デコレータ](#decorator)\n",
    "  * [少し難しい方法](#slightly-more-complicated-method)\n",
    "  * [上記を少し簡単にした方法](#more-simplified-method)\n",
    "* [ラムダ](#lambda)\n",
    "* [ジェネレータ](#generator)\n",
    "* [内包表現](#comprehension)\n",
    "  * [リスト内包表現](#list-comprehension)\n",
    "  * [辞書内包表現](#dictionary-comprehension)\n",
    "  * [集合内包表現](#set-comprehension)\n",
    "  * [ジェネレータ内包表現](#generator-comprehension)\n"
   ]
  },
  {
   "cell_type": "markdown",
   "metadata": {},
   "source": [
    "<a id='for-else'></a>\n",
    "### for-else文"
   ]
  },
  {
   "cell_type": "markdown",
   "metadata": {},
   "source": []
  },
  {
   "cell_type": "code",
   "execution_count": 1,
   "metadata": {},
   "outputs": [
    {
     "name": "stdout",
     "output_type": "stream",
     "text": [
      "apple\n",
      "pen\n",
      "I ate all\n",
      "apple\n"
     ]
    }
   ],
   "source": [
    "# breakがない場合はelseが実行される\n",
    "for fruit in ['apple', 'pen']:\n",
    "    print(fruit)\n",
    "else:\n",
    "    print('I ate all')\n",
    "\n",
    "# breakがある場合はelseは実行されない\n",
    "for fruit in ['apple', 'pen']:\n",
    "    print(fruit)\n",
    "    break\n",
    "else:\n",
    "    print('I ate all')"
   ]
  },
  {
   "cell_type": "markdown",
   "metadata": {},
   "source": [
    "<a id='range-function'></a>\n",
    "### range関数"
   ]
  },
  {
   "cell_type": "code",
   "execution_count": 2,
   "metadata": {},
   "outputs": [
    {
     "name": "stdout",
     "output_type": "stream",
     "text": [
      "0\n",
      "1\n",
      "2\n",
      "3\n",
      "4\n",
      "5\n",
      "6\n",
      "7\n",
      "8\n",
      "9\n",
      "2\n",
      "3\n",
      "4\n",
      "5\n",
      "6\n",
      "7\n",
      "8\n",
      "9\n",
      "2\n",
      "5\n",
      "8\n",
      "hello\n",
      "hello\n",
      "hello\n",
      "hello\n",
      "hello\n",
      "hello\n",
      "hello\n",
      "hello\n",
      "hello\n",
      "hello\n"
     ]
    }
   ],
   "source": [
    "# 0から9まで\n",
    "for i in range(10):\n",
    "    print(i)\n",
    "\n",
    "# 2から9まで\n",
    "for i in range(2, 10):\n",
    "    print(i)\n",
    "\n",
    "# 2から始まって9まで3スキップ\n",
    "for i in range(2, 9, 3):\n",
    "    print(i)\n",
    "\n",
    "# index番号を使わないときは変数名を'_'にして使わない意思を示す。\n",
    "for _ in range(10):\n",
    "    print('hello')"
   ]
  },
  {
   "cell_type": "markdown",
   "metadata": {},
   "source": [
    "<a id='enumerate-function'></a>\n",
    "### enumerate関数"
   ]
  },
  {
   "cell_type": "code",
   "execution_count": 3,
   "metadata": {},
   "outputs": [
    {
     "name": "stdout",
     "output_type": "stream",
     "text": [
      "0 apple\n",
      "1 banana\n",
      "2 orange\n"
     ]
    }
   ],
   "source": [
    "# index付きで表示したいときに利用する\n",
    "for i, fruit in enumerate(['apple', 'banana', 'orange']):\n",
    "    print(i, fruit)"
   ]
  },
  {
   "cell_type": "markdown",
   "metadata": {},
   "source": [
    "<a id='zip-function'></a>\n",
    "### zip関数"
   ]
  },
  {
   "cell_type": "code",
   "execution_count": 4,
   "metadata": {},
   "outputs": [
    {
     "name": "stdout",
     "output_type": "stream",
     "text": [
      "Mon apple coffee\n",
      "Tue banana tea\n",
      "Wed orange beer\n",
      "Mon apple coffee\n",
      "Tue banana tea\n",
      "Wed orange beer\n"
     ]
    }
   ],
   "source": [
    "days = ['Mon', 'Tue', 'Wed']\n",
    "fruits = ['apple', 'banana', 'orange']\n",
    "drinks = ['coffee', 'tea', 'beer']\n",
    "\n",
    "# zip関数を使わない場合\n",
    "for i in range(len(days)):\n",
    "    print(days[i], fruits[i], drinks[i])\n",
    "\n",
    "# zip関数を使った場合\n",
    "for day, fruit, drink in zip(days, fruits, drinks):\n",
    "    print(day, fruit, drink)"
   ]
  },
  {
   "cell_type": "markdown",
   "metadata": {},
   "source": [
    "<a id='processing-of-dictionary-for-statement'></a>\n",
    "### 辞書のfor文処理"
   ]
  },
  {
   "cell_type": "code",
   "execution_count": 5,
   "metadata": {},
   "outputs": [
    {
     "name": "stdout",
     "output_type": "stream",
     "text": [
      "x 100\n",
      "y 200\n"
     ]
    }
   ],
   "source": [
    "d = {'x': 100, 'y': 200}\n",
    "for k, v in d.items():\n",
    "    print(k, v)\n",
    "# d.items()はdict_items(['x', 100], ('y', 200))を返している。\n",
    "# アンパッキングでkとvに渡している。"
   ]
  },
  {
   "cell_type": "markdown",
   "metadata": {},
   "source": [
    "## if文関連のおさらい"
   ]
  },
  {
   "cell_type": "markdown",
   "metadata": {},
   "source": [
    "<a id='determination-of-none'></a>\n",
    "### Noneの判定"
   ]
  },
  {
   "cell_type": "code",
   "execution_count": 8,
   "metadata": {},
   "outputs": [
    {
     "name": "stdout",
     "output_type": "stream",
     "text": [
      "None\n",
      "None\n"
     ]
    }
   ],
   "source": [
    "is_empty = None\n",
    "# これでもいいけどあまりよくない\n",
    "if is_empty == None:\n",
    "    print('None')\n",
    "\n",
    "# Noneの判定はこういうのが自然\n",
    "if is_empty is None:\n",
    "    print('None')\n",
    "\n",
    "# Noneでない判定はこういうのが自然\n",
    "if is_empty is not None:\n",
    "    print('not None')"
   ]
  },
  {
   "cell_type": "markdown",
   "metadata": {},
   "source": [
    "## 関数定義関連"
   ]
  },
  {
   "cell_type": "markdown",
   "metadata": {},
   "source": [
    "<a id='basic'></a>\n",
    "### 基本"
   ]
  },
  {
   "cell_type": "code",
   "execution_count": 9,
   "metadata": {},
   "outputs": [
    {
     "name": "stdout",
     "output_type": "stream",
     "text": [
      "Hello, Hanako!!\n",
      "Hello, Hanako!!\n",
      "<class 'NoneType'>\n",
      "Hello, Hanako!!\n"
     ]
    }
   ],
   "source": [
    "def hello_hanako():\n",
    "    print('Hello, Hanako!!')\n",
    "\n",
    "# 実行\n",
    "hello_hanako()\n",
    "\n",
    "# 型を調べるとfunction型になっている\n",
    "print(type(hello_hanako()))\n",
    "\n",
    "# function型なので、こういう使い方もできるっぽい\n",
    "hanako_func = hello_hanako\n",
    "hanako_func()"
   ]
  },
  {
   "cell_type": "markdown",
   "metadata": {},
   "source": [
    "<a id='type-definition'></a>\n",
    "### 型の定義"
   ]
  },
  {
   "cell_type": "code",
   "execution_count": 13,
   "metadata": {},
   "outputs": [
    {
     "name": "stdout",
     "output_type": "stream",
     "text": [
      "sv\n"
     ]
    }
   ],
   "source": [
    "def calc_num(a: int, b:int) -> int: # 引数に型を明示しているが、型が一致してなくてもいい\n",
    "    return a + b\n",
    "ans = calc_num(10, 20)\n",
    "print(ans)"
   ]
  },
  {
   "cell_type": "markdown",
   "metadata": {},
   "source": [
    "<a id='default-argument'></a>\n",
    "### デフォルト引数にリストを与えるべきではない"
   ]
  },
  {
   "cell_type": "code",
   "execution_count": 15,
   "metadata": {},
   "outputs": [
    {
     "name": "stdout",
     "output_type": "stream",
     "text": [
      "[100]\n",
      "[100, 100]\n"
     ]
    }
   ],
   "source": [
    "def test_hoge(x, l=[]):\n",
    "    l.append(x)\n",
    "    return l\n",
    "\n",
    "# 返り値として[100]を期待\n",
    "r = test_hoge(100)\n",
    "print(r)\n",
    "\n",
    "# 返り値として[100]を期待しているが..\n",
    "r = test_hoge(100)\n",
    "print(r)\n",
    "\n",
    "# 参照渡しなのでリストrに100が追加されてしまう"
   ]
  },
  {
   "cell_type": "markdown",
   "metadata": {},
   "source": [
    "<a id='tuple-of-positional-arguments'></a>\n",
    "### 位置引数のタプル化"
   ]
  },
  {
   "cell_type": "code",
   "execution_count": 2,
   "metadata": {},
   "outputs": [
    {
     "name": "stdout",
     "output_type": "stream",
     "text": [
      "I am Hanako\n",
      "Taro\n",
      "Shintaro\n",
      "I am Hanako\n",
      "Taro\n",
      "Shintaro\n"
     ]
    }
   ],
   "source": [
    "# 位置引数*argsを定義\n",
    "def say_something(person, *args):\n",
    "    print('I am ' + person)\n",
    "    for arg in args:\n",
    "        print(arg)\n",
    "\n",
    "say_something('Hanako', 'Taro', 'Shintaro')\n",
    "\n",
    "# タプルを使っても展開できる\n",
    "# ただし、あまり使わないらしい\n",
    "t = 'Taro', 'Shintaro'\n",
    "say_something('Hanako', *t)"
   ]
  },
  {
   "cell_type": "markdown",
   "metadata": {},
   "source": [
    "<a id='keyword-arguments'></a>\n",
    "### キーワード引数"
   ]
  },
  {
   "cell_type": "code",
   "execution_count": 5,
   "metadata": {},
   "outputs": [
    {
     "name": "stdout",
     "output_type": "stream",
     "text": [
      "{'food': 'udon', 'drink': 'cola'}\n",
      "food udon\n",
      "drink cola\n",
      "{'food': 'udon', 'drink': 'water', 'dessert': 'ice'}\n",
      "food udon\n",
      "drink water\n",
      "dessert ice\n"
     ]
    }
   ],
   "source": [
    "def my_menu(**kwargs):\n",
    "    print(kwargs)\n",
    "    for k, v in kwargs.items():\n",
    "        print(k, v)\n",
    "\n",
    "# 書き方その１よく見る書き方\n",
    "my_menu(food='udon', drink='cola')\n",
    "\n",
    "# 書き方その2　これもよく見る書き方\n",
    "entry = {\n",
    "    'food': 'udon',\n",
    "    'drink': 'water',\n",
    "    'dessert': 'ice'\n",
    "}\n",
    "my_menu(**entry)"
   ]
  },
  {
   "cell_type": "markdown",
   "metadata": {},
   "source": [
    "<a id='mixed-arguments'></a>\n",
    "### 引数、位置引数、キーワード引数が混在のパターン"
   ]
  },
  {
   "cell_type": "code",
   "execution_count": 6,
   "metadata": {},
   "outputs": [
    {
     "name": "stdout",
     "output_type": "stream",
     "text": [
      "rice ball\n",
      "('water', 'cola')\n",
      "{'dessert1': 'pan-cake', 'dessert2': 'chocolate-ice'}\n"
     ]
    }
   ],
   "source": [
    "# 引数、位置引数、キーワード引数が混在のパターン\n",
    "# これもよく見る。\n",
    "# 引数の定義準も大事。引数、,*args, **kwargsの順でないとNG\n",
    "def my_menu(food, *args, **kwargs):\n",
    "    print(food)\n",
    "    print(args)\n",
    "    print(kwargs)\n",
    "\n",
    "my_menu('rice ball', 'water', 'cola', dessert1='pan-cake', dessert2='chocolate-ice')"
   ]
  },
  {
   "cell_type": "markdown",
   "metadata": {},
   "source": [
    "<a id='inner-fucntion'></a>\n",
    "### inner function(関数内関数)"
   ]
  },
  {
   "cell_type": "code",
   "execution_count": 7,
   "metadata": {},
   "outputs": [
    {
     "name": "stdout",
     "output_type": "stream",
     "text": [
      "3\n"
     ]
    }
   ],
   "source": [
    "def outer(a, b):\n",
    "    # outerの中でしか使わない場合はinner fucntionがいいこともある\n",
    "    def plus(c, d):\n",
    "        return c + d\n",
    "    \n",
    "    print(plus(a, b))\n",
    "\n",
    "outer(1, 2)"
   ]
  },
  {
   "cell_type": "markdown",
   "metadata": {},
   "source": [
    "<a id='closures'></a>\n",
    "### クロージャー"
   ]
  },
  {
   "cell_type": "code",
   "execution_count": 8,
   "metadata": {},
   "outputs": [
    {
     "name": "stdout",
     "output_type": "stream",
     "text": [
      "54.0\n",
      "98.0\n"
     ]
    }
   ],
   "source": [
    "# クロージャー関数を定義\n",
    "def square_area_func(length):\n",
    "    # インナー関数を定義\n",
    "    def calc(scale):\n",
    "        return length * length * scale\n",
    "    \n",
    "    return calc # calc()を返すのではなくインナー関数calcを返す\n",
    "\n",
    "cal1 = square_area_func(6)\n",
    "cal2 = square_area_func(7)\n",
    "\n",
    "# 遅延評価する。\n",
    "result1 = cal1(1.5) # 6 * 6 * 1.5\n",
    "result2 = cal2(2.0) # 7 * 7 * 2.0\n",
    "print(result1)\n",
    "print(result2)"
   ]
  },
  {
   "cell_type": "markdown",
   "metadata": {},
   "source": [
    "<a id='decorator'></a>\n",
    "### デコレータ\n",
    "  <a id='slightly-more-complicated-method'></a>\n",
    "  #### 少し難しい方法\n"
   ]
  },
  {
   "cell_type": "code",
   "execution_count": 9,
   "metadata": {},
   "outputs": [
    {
     "name": "stdout",
     "output_type": "stream",
     "text": [
      "Start..\n",
      "End..\n",
      "40\n"
     ]
    }
   ],
   "source": [
    "def add_num(a, b):\n",
    "    \"\"\"\n",
    "    デコレーション対象のメソッド\n",
    "    \"\"\"\n",
    "    return a + b\n",
    "\n",
    "def print_info(func):\n",
    "    \"\"\"\n",
    "    デコレータの定義\n",
    "    :param func: デコレーション対象のメソッド\n",
    "    :return:\n",
    "    \"\"\"\n",
    "\n",
    "    # インナー関数を定義\n",
    "    def wrapper(*args, **kwargs):\n",
    "        print('Start..') # デコレーション(前処理)\n",
    "        result = func(*args, **kwargs) # 計算処理\n",
    "        print('End..') # デコレーション(後処理)\n",
    "        return result\n",
    "    \n",
    "    return wrapper # 関数として返す\n",
    "\n",
    "deco_f = print_info(add_num)\n",
    "r = deco_f(10, 30)\n",
    "print(r)"
   ]
  },
  {
   "cell_type": "markdown",
   "metadata": {},
   "source": [
    "<a id='more-simplified-method'></a>\n",
    "#### 上記を少し簡単にした方法"
   ]
  },
  {
   "cell_type": "code",
   "execution_count": 10,
   "metadata": {},
   "outputs": [
    {
     "name": "stdout",
     "output_type": "stream",
     "text": [
      "Start..\n",
      "End..\n",
      "40\n"
     ]
    }
   ],
   "source": [
    "def print_info(func):\n",
    "    \"\"\"\n",
    "    デコレータの定義\n",
    "    :param func: デコレーション対象のメソッド\n",
    "    :return:\n",
    "    \"\"\"\n",
    "\n",
    "    # インナー関数を定義\n",
    "    def wrapper(*args, **kwargs):\n",
    "        print('Start..') # デコレーション(前処理)\n",
    "        result = func(*args, **kwargs) # 計算処理\n",
    "        print('End..') # デコレーション(後処理)\n",
    "        return result\n",
    "    \n",
    "    return wrapper # 関数として返す\n",
    "\n",
    "@print_info\n",
    "def add_num(a, b):\n",
    "    \"\"\"\n",
    "    デコレーション対象のメソッド\n",
    "    \"\"\"\n",
    "    return a + b\n",
    "\n",
    "# デコレーション対象のメソッドを呼び出すのみでデコレーションしてくれる\n",
    "r = add_num(10, 30)\n",
    "print(r)"
   ]
  },
  {
   "cell_type": "markdown",
   "metadata": {},
   "source": [
    "<a id='labmda'></a>\n",
    "### ラムダ"
   ]
  },
  {
   "cell_type": "code",
   "execution_count": 11,
   "metadata": {},
   "outputs": [
    {
     "name": "stdout",
     "output_type": "stream",
     "text": [
      "Hanako\n",
      "Taro\n",
      "Kurara\n",
      "Haiji\n",
      "HANAKO\n",
      "TARO\n",
      "KURARA\n",
      "HAIJI\n"
     ]
    }
   ],
   "source": [
    "def capitalize_words(words, func):\n",
    "    for word in words:\n",
    "        print(func(word))\n",
    "\n",
    "words = ['hanako', 'taro', 'kurara', 'haiji']\n",
    "capitalize_words(words, lambda w: w.capitalize())\n",
    "capitalize_words(words, lambda w: w.swapcase())"
   ]
  },
  {
   "cell_type": "markdown",
   "metadata": {},
   "source": [
    "<a id='generator'></a>\n",
    "### ジェネレータ"
   ]
  },
  {
   "cell_type": "code",
   "execution_count": 13,
   "metadata": {},
   "outputs": [
    {
     "name": "stdout",
     "output_type": "stream",
     "text": [
      "<generator object foods at 0x0000017265CF8670>\n",
      "Rice ball\n",
      "Udon\n",
      "Soba\n",
      "<generator object i_love_python at 0x00000172662612F0>\n",
      "I love python.\n",
      "I love python.\n",
      "I love python.\n"
     ]
    }
   ],
   "source": [
    "def foods():\n",
    "    yield 'Rice ball'\n",
    "    yield 'Udon'\n",
    "    yield 'Soba'\n",
    "\n",
    "itr = foods()\n",
    "print(itr)\n",
    "print(next(itr))\n",
    "print(next(itr))\n",
    "print(next(itr))\n",
    "\n",
    "def i_love_python(num=5):\n",
    "    for _ in range(num):\n",
    "        yield 'I love python.'\n",
    "\n",
    "itr2 = i_love_python(3)\n",
    "print(itr2)\n",
    "print(next(itr2))\n",
    "print(next(itr2))\n",
    "print(next(itr2))"
   ]
  },
  {
   "cell_type": "markdown",
   "metadata": {},
   "source": [
    "<a id='comprehension'></a>\n",
    "### 内包表現"
   ]
  },
  {
   "cell_type": "markdown",
   "metadata": {},
   "source": [
    "<a id='list-comprehension'></a>\n",
    "#### リスト内包表現"
   ]
  },
  {
   "cell_type": "code",
   "execution_count": 15,
   "metadata": {},
   "outputs": [
    {
     "name": "stdout",
     "output_type": "stream",
     "text": [
      "['ハンバーグ', 'おにぎり', 'ラーメン', 'うどん']\n",
      "[100, 10000]\n",
      "[5, 6, 7, 8, 9, 10, 12, 14, 16, 18, 15, 18, 21, 24, 27, 20, 24, 28, 32, 36, 25, 30, 35, 40, 45]\n"
     ]
    }
   ],
   "source": [
    "# 基本\n",
    "foods = ('ハンバーグ', 'おにぎり', 'ラーメン', 'うどん')\n",
    "food_list = [food for food in foods]\n",
    "print(food_list)\n",
    "\n",
    "# ifを挟む場合\n",
    "numbers = (100, 10000, 33333, 5501)\n",
    "even_number_list = [number for number in numbers if number % 2 == 0]\n",
    "print(even_number_list)\n",
    "\n",
    "# リスト同士の掛け算\n",
    "num1 = [1, 2, 3, 4, 5]\n",
    "num2 = [5, 6, 7, 8, 9]\n",
    "mul_num = [i * j for i in num1 for j in num2]\n",
    "print(mul_num)"
   ]
  },
  {
   "cell_type": "markdown",
   "metadata": {},
   "source": [
    "<a id='dictionary-comprehension'></a>\n",
    "#### 辞書内包表現"
   ]
  },
  {
   "cell_type": "code",
   "execution_count": 18,
   "metadata": {},
   "outputs": [
    {
     "name": "stdout",
     "output_type": "stream",
     "text": [
      "{'mon': 'coffee', 'tue': 'milk', 'wed': 'cola'}\n",
      "{'mon': 'coffee', 'tue': 'milk', 'wed': 'cola'}\n"
     ]
    }
   ],
   "source": [
    "week = ['mon', 'tue', 'wed']\n",
    "drinks = ['coffee', 'milk', 'cola']\n",
    "\n",
    "# 内包表記を使わない記述\n",
    "d = {}\n",
    "for day, drink in zip(week, drinks):\n",
    "    d[day] = drink\n",
    "print(d)\n",
    "\n",
    "# 内包表記を使った記述\n",
    "d = {day: drink for day, drink in zip(week, drinks)}\n",
    "print(d)"
   ]
  },
  {
   "cell_type": "markdown",
   "metadata": {},
   "source": [
    "<a id='set-comprehension'></a>\n",
    "#### 集合内包表記"
   ]
  },
  {
   "cell_type": "code",
   "execution_count": 19,
   "metadata": {},
   "outputs": [
    {
     "name": "stdout",
     "output_type": "stream",
     "text": [
      "{0, 1, 2, 3, 4, 5, 6, 7, 8, 9}\n",
      "{0, 1, 2, 3, 4, 5, 6, 7, 8, 9}\n"
     ]
    }
   ],
   "source": [
    "# 内包表記を使わない記述\n",
    "s = set()\n",
    "for i in range(10):\n",
    "    s.add(i)\n",
    "\n",
    "print(s)\n",
    "\n",
    "# 内包表記を使った記述\n",
    "s = {i for i in range(10)}\n",
    "print(s)"
   ]
  },
  {
   "cell_type": "markdown",
   "metadata": {},
   "source": [
    "<a id='generator-comprehension'></a>\n",
    "#### ジェネレータ内包表記"
   ]
  },
  {
   "cell_type": "code",
   "execution_count": 20,
   "metadata": {},
   "outputs": [
    {
     "name": "stdout",
     "output_type": "stream",
     "text": [
      "<class 'generator'>\n",
      "<class 'generator'>\n",
      "('Hello Miniconda', 'Hello Miniconda', 'Hello Miniconda', 'Hello Miniconda', 'Hello Miniconda', 'Hello Miniconda', 'Hello Miniconda', 'Hello Miniconda', 'Hello Miniconda', 'Hello Miniconda')\n",
      "['Hello Miniconda', 'Hello Miniconda', 'Hello Miniconda', 'Hello Miniconda', 'Hello Miniconda', 'Hello Miniconda', 'Hello Miniconda', 'Hello Miniconda', 'Hello Miniconda', 'Hello Miniconda']\n"
     ]
    }
   ],
   "source": [
    "# ジェネレータ内包表記\n",
    "def generator():\n",
    "    for _ in range(5):\n",
    "        yield 'Hello Andaconda!'\n",
    "    \n",
    "g = generator()\n",
    "print(type(g))\n",
    "\n",
    "# 内包表記を使った記述\n",
    "g = (\"Hello Miniconda\" for _ in range(10))\n",
    "print(type(g))\n",
    "\n",
    "# 内包表記で生成したジェネレータからタプルを生成する\n",
    "t = tuple(\"Hello Miniconda\" for _ in range(10))\n",
    "print(t)\n",
    "\n",
    "# 内包表記で生成したジェネレータからリストを生成する\n",
    "l = list(\"Hello Miniconda\" for _ in range(10))\n",
    "print(l)"
   ]
  },
  {
   "cell_type": "markdown",
   "metadata": {},
   "source": [
    "<a id='exception-handling'></a>\n",
    "## 例外処理"
   ]
  },
  {
   "cell_type": "markdown",
   "metadata": {},
   "source": [
    "<a id='exception-basic'></a>\n",
    "### 基本"
   ]
  },
  {
   "cell_type": "code",
   "execution_count": 21,
   "metadata": {},
   "outputs": [
    {
     "name": "stdout",
     "output_type": "stream",
     "text": [
      "Hello Miniconda\n",
      "例外が発生しなかった場合に実行\n",
      "finish!\n"
     ]
    }
   ],
   "source": [
    "try:\n",
    "    print(l[4])\n",
    "\n",
    "# インデックスエラー例外\n",
    "except IndexError as ex:\n",
    "    print('Index Error!!', ex)\n",
    "\n",
    "# Exceptionを補足する。\n",
    "# これ以上のものは補足するべきではない\n",
    "except Exception as ex:\n",
    "    print('まるっと例外を補足するのはあまりよくない', ex)\n",
    "\n",
    "# 例外が発生しなかった場合に実行される\n",
    "else:\n",
    "    print('例外が発生しなかった場合に実行')\n",
    "\n",
    "# 例外が発生しても必ず実行させたい環境\n",
    "finally:\n",
    "    print('finish!')"
   ]
  },
  {
   "cell_type": "markdown",
   "metadata": {},
   "source": [
    "<a id='unique-exception-definition'></a>\n",
    "#### 独自例外定義"
   ]
  },
  {
   "cell_type": "code",
   "execution_count": 2,
   "metadata": {},
   "outputs": [
    {
     "ename": "NameError",
     "evalue": "name 'MyApplicationException' is not defined",
     "output_type": "error",
     "traceback": [
      "\u001b[1;31m---------------------------------------------------------------------------\u001b[0m",
      "\u001b[1;31mMyApplicationException1\u001b[0m                   Traceback (most recent call last)",
      "Cell \u001b[1;32mIn[2], line 21\u001b[0m\n\u001b[0;32m     20\u001b[0m \u001b[38;5;28;01mtry\u001b[39;00m:\n\u001b[1;32m---> 21\u001b[0m     \u001b[43mcheck\u001b[49m\u001b[43m(\u001b[49m\u001b[43mwords\u001b[49m\u001b[43m)\u001b[49m\n\u001b[0;32m     22\u001b[0m \u001b[38;5;28;01mexcept\u001b[39;00m MyApplicationException \u001b[38;5;28;01mas\u001b[39;00m ex:\n",
      "Cell \u001b[1;32mIn[2], line 13\u001b[0m, in \u001b[0;36mcheck\u001b[1;34m(words)\u001b[0m\n\u001b[0;32m     11\u001b[0m \u001b[38;5;28;01mif\u001b[39;00m word\u001b[38;5;241m.\u001b[39misupper():\n\u001b[0;32m     12\u001b[0m     \u001b[38;5;66;03m# 例外を発生させる\u001b[39;00m\n\u001b[1;32m---> 13\u001b[0m     \u001b[38;5;28;01mraise\u001b[39;00m MyApplicationException1(word)\n\u001b[0;32m     14\u001b[0m \u001b[38;5;28;01mif\u001b[39;00m word\u001b[38;5;241m.\u001b[39misdigit():\n\u001b[0;32m     15\u001b[0m     \u001b[38;5;66;03m# 例外を発生させる\u001b[39;00m\n",
      "\u001b[1;31mMyApplicationException1\u001b[0m: APPLE",
      "\nDuring handling of the above exception, another exception occurred:\n",
      "\u001b[1;31mNameError\u001b[0m                                 Traceback (most recent call last)",
      "Cell \u001b[1;32mIn[2], line 22\u001b[0m\n\u001b[0;32m     20\u001b[0m \u001b[38;5;28;01mtry\u001b[39;00m:\n\u001b[0;32m     21\u001b[0m     check(words)\n\u001b[1;32m---> 22\u001b[0m \u001b[38;5;28;01mexcept\u001b[39;00m \u001b[43mMyApplicationException\u001b[49m \u001b[38;5;28;01mas\u001b[39;00m ex:\n\u001b[0;32m     23\u001b[0m     \u001b[38;5;28mprint\u001b[39m(\u001b[38;5;124m'\u001b[39m\u001b[38;5;124mあああああああ\u001b[39m\u001b[38;5;124m'\u001b[39m, ex)\n\u001b[0;32m     24\u001b[0m \u001b[38;5;28;01mexcept\u001b[39;00m YourApplicationException \u001b[38;5;28;01mas\u001b[39;00m ex:\n",
      "\u001b[1;31mNameError\u001b[0m: name 'MyApplicationException' is not defined"
     ]
    }
   ],
   "source": [
    "# 独自例外定義\n",
    "class MyApplicationException1(Exception):\n",
    "    pass\n",
    "\n",
    "# 独自例外定義\n",
    "class MyApplicationException2(Exception):\n",
    "    pass\n",
    "\n",
    "def check(words):\n",
    "    for word in words:\n",
    "        if word.isupper():\n",
    "            # 例外を発生させる\n",
    "            raise MyApplicationException1(word)\n",
    "        if word.isdigit():\n",
    "            # 例外を発生させる\n",
    "            raise MyApplicationException2(word)\n",
    "        \n",
    "words = ['APPLE', 'orange', 'banana']\n",
    "\n",
    "try:\n",
    "    check(words)\n",
    "except MyApplicationException as ex:\n",
    "    print('あああああああ', ex)\n",
    "except YourApplicationException as ex:\n",
    "    print('いいいいいいい', ex)"
   ]
  },
  {
   "cell_type": "markdown",
   "metadata": {},
   "source": [
    "<a id='class'></a>\n",
    "### クラス"
   ]
  },
  {
   "cell_type": "code",
   "execution_count": 3,
   "metadata": {},
   "outputs": [
    {
     "name": "stdout",
     "output_type": "stream",
     "text": [
      "init..\n",
      "Hello, Hanako\n",
      "good bye\n"
     ]
    }
   ],
   "source": [
    "class Person(object): # python2の名残でobjectを書いた方がいい\n",
    "    # クラス変数\n",
    "    # すべてのオブジェクトで共有してもいいもののみに利用する。\n",
    "    kind = '人間'\n",
    "    \n",
    "    def __init__(self, name):\n",
    "        '''\n",
    "        これはコンストラクタ\n",
    "        '''\n",
    "        print('init..')\n",
    "        self.name = name\n",
    "\n",
    "    def say_hello(self):\n",
    "        '''\n",
    "        これはインスタンスメソッド\n",
    "        '''\n",
    "        print('Hello, {}'.format(self.name))\n",
    "\n",
    "    @staticmethod\n",
    "    def run():\n",
    "        '''\n",
    "        これはスタティックメソッド\n",
    "        selfを使用しない。\n",
    "        '''\n",
    "        print('run run run')\n",
    "\n",
    "    def __del__(self):\n",
    "        '''\n",
    "        デストラクタ\n",
    "        オブジェクトが使われなくなったら呼ばれる\n",
    "        '''\n",
    "        print('good bye')\n",
    "\n",
    "person = Person('Hanako') # new演算子なるものはない。\n",
    "person.say_hello()\n",
    "\n",
    "# 明示的にデストラクタを呼ぶ場合\n",
    "del person"
   ]
  },
  {
   "cell_type": "markdown",
   "metadata": {},
   "source": [
    "<a id='override/super'></a>\n",
    "### オーバーライド/superによる呼び出し"
   ]
  },
  {
   "cell_type": "code",
   "execution_count": 8,
   "metadata": {},
   "outputs": [
    {
     "name": "stdout",
     "output_type": "stream",
     "text": [
      "run\n",
      "super run\n",
      "run\n",
      "ultra run\n"
     ]
    }
   ],
   "source": [
    "class Car(object):\n",
    "    def __init__(self, model=None):\n",
    "        self.model = model\n",
    "\n",
    "    def run(self):\n",
    "        print('run')\n",
    "\n",
    "class SuperCar(Car):\n",
    "    def run(self):\n",
    "        # オ－バーライド\n",
    "        print('super run')\n",
    "\n",
    "class UltraCar(Car):\n",
    "    def run(self):\n",
    "        # 親クラスのrunを呼び出し\n",
    "        super().run() \n",
    "        print('ultra run')\n",
    "\n",
    "car = Car()\n",
    "car.run()\n",
    "\n",
    "super_car = SuperCar()\n",
    "super_car.run()\n",
    "\n",
    "ultra_car = UltraCar()\n",
    "ultra_car.run() # runとultra runが出力される\n"
   ]
  },
  {
   "cell_type": "markdown",
   "metadata": {},
   "source": [
    "<a id='attribute-setting-with-properties'></a>\n",
    "### プロパティを使った属性設定"
   ]
  },
  {
   "cell_type": "code",
   "execution_count": 9,
   "metadata": {},
   "outputs": [
    {
     "name": "stdout",
     "output_type": "stream",
     "text": [
      "Hanako Yamada\n",
      "32\n",
      "Sakamichi Onoda\n",
      "16\n"
     ]
    }
   ],
   "source": [
    "class Person(object):\n",
    "    def __init__(self, name, age):\n",
    "        # プライベートな属性には慣習的に_を先頭につける\n",
    "        # ただし、_ひとつだけだと外からもアクセスできるので、\n",
    "        # きちんと属性を保護したいので__として2つアンダースコアをつけるようにする\n",
    "        self._name = name\n",
    "        self._age = age\n",
    "\n",
    "    @property\n",
    "    def name(self):\n",
    "        '''\n",
    "        ゲッター\n",
    "        '''\n",
    "        return self._name\n",
    "    \n",
    "    @property\n",
    "    def age(self):\n",
    "        '''\n",
    "        ゲッター\n",
    "        '''\n",
    "        return self._age\n",
    "    \n",
    "    @name.setter\n",
    "    def name(self, name):\n",
    "        '''\n",
    "        セッター\n",
    "        '''\n",
    "        self._name = name\n",
    "    \n",
    "    @age.setter\n",
    "    def age(self, age):\n",
    "        '''\n",
    "        セッター\n",
    "        '''\n",
    "        self._age = age\n",
    "\n",
    "person = Person('Hanako Yamada', 32)\n",
    "\n",
    "print(person.name) # propertyがついているので、person.name()としなくてよい\n",
    "print(person.age) # propertyがついているので、person.age()としなくてよい\n",
    "\n",
    "person.name = 'Sakamichi Onoda' # セッターを使っている\n",
    "person.age = 16 # セッターを使っている\n",
    "\n",
    "print(person.name)\n",
    "print(person.age)"
   ]
  },
  {
   "cell_type": "markdown",
   "metadata": {},
   "source": [
    "<a id='abstract-class'></a>\n",
    "### 抽象クラス"
   ]
  },
  {
   "cell_type": "code",
   "execution_count": 11,
   "metadata": {},
   "outputs": [],
   "source": [
    "# abcをインポートする\n",
    "import abc\n",
    "\n",
    "class Person(metaclass=abc.ABCMeta):\n",
    "    '''\n",
    "    抽象クラス\n",
    "    '''\n",
    "    def __init__(self, age=None):\n",
    "        self.age = age\n",
    "\n",
    "    @abc.abstractclassmethod\n",
    "    def walk(self):\n",
    "        '''\n",
    "        @abc.abstractmethodで子クラスに実装させるようにする\n",
    "        '''\n",
    "        pass\n",
    "\n",
    "class Baby(Person):\n",
    "    def __init__(self):\n",
    "        self.age = 1\n",
    "\n",
    "    # このメソッドは実装されていないといけない\n",
    "    def walk(self):\n",
    "        print('はいはい')\n",
    "\n",
    "class Adult(Person):\n",
    "    def __init__(self):\n",
    "        self.age = 20\n",
    "\n",
    "    # このメソッドは実装されていないといけない\n",
    "    def walk(self):\n",
    "        print('るんるん')"
   ]
  },
  {
   "cell_type": "markdown",
   "metadata": {},
   "source": [
    "<a id='multiple-inheritence'></a>\n",
    "### 多重継承"
   ]
  },
  {
   "cell_type": "code",
   "execution_count": 13,
   "metadata": {},
   "outputs": [
    {
     "name": "stdout",
     "output_type": "stream",
     "text": [
      "とんでる\n",
      "ほげほげほげ\n",
      "てくてく\n"
     ]
    }
   ],
   "source": [
    "# 人間クラスの定義\n",
    "class Human(object):\n",
    "    def talk(self):\n",
    "        print('ほげほげほげ')\n",
    "\n",
    "    def walk(self):\n",
    "        print('てくてく')\n",
    "\n",
    "# 鳥クラスの定義\n",
    "class Bird(object):\n",
    "    def fly(self):\n",
    "        print('とんでる')\n",
    "\n",
    "    def walk(self):\n",
    "        print('ぺたぺた')\n",
    "\n",
    "# 鳥人間クラスの定義\n",
    "# 多重継承で定義\n",
    "class BirdHuman(Human, Bird):\n",
    "    pass\n",
    "\n",
    "bird_human = BirdHuman()\n",
    "bird_human.fly()\n",
    "bird_human.talk()\n",
    "\n",
    "# 同じメソッドがある場合、先に継承したクラスのメソッドが呼ばれる\n",
    "bird_human.walk()"
   ]
  },
  {
   "cell_type": "markdown",
   "metadata": {},
   "source": [
    "<a id='class-method'></a>\n",
    "### クラスメソッド"
   ]
  },
  {
   "cell_type": "code",
   "execution_count": 14,
   "metadata": {},
   "outputs": [
    {
     "name": "stdout",
     "output_type": "stream",
     "text": [
      "鳥\n"
     ]
    }
   ],
   "source": [
    "class Bird(object):\n",
    "    # クラス変数\n",
    "    kind = '鳥'\n",
    "\n",
    "    def __init__(self):\n",
    "        pass\n",
    "\n",
    "    @classmethod\n",
    "    def what_is_kind(cls):\n",
    "        # clsは、Birdを指している。\n",
    "        # Birdクラスから生成されたインスタンスオブジェクトではないことに注意\n",
    "        print(cls.kind)\n",
    "\n",
    "# クラスメソッドの実行\n",
    "# インスタンス化しなくても使えるので、Bird()ではなく、Birdになっている\n",
    "Bird.what_is_kind()"
   ]
  },
  {
   "cell_type": "markdown",
   "metadata": {},
   "source": [
    "<a id='static-method'></a>\n",
    "### スタティックメソッド"
   ]
  },
  {
   "cell_type": "code",
   "execution_count": 15,
   "metadata": {},
   "outputs": [
    {
     "name": "stdout",
     "output_type": "stream",
     "text": [
      "2本足です\n"
     ]
    }
   ],
   "source": [
    "class Bird(object):\n",
    "\n",
    "    def __init__(self):\n",
    "        pass\n",
    "    \n",
    "    @staticmethod\n",
    "    def has_log():\n",
    "        print('2本足です')\n",
    "\n",
    "# スタティックメソッドを利用する\n",
    "Bird.has_log()"
   ]
  },
  {
   "cell_type": "markdown",
   "metadata": {},
   "source": [
    "<a id='specific-method'></a>\n",
    "### 特殊メソッド"
   ]
  },
  {
   "cell_type": "code",
   "execution_count": 17,
   "metadata": {},
   "outputs": [
    {
     "name": "stdout",
     "output_type": "stream",
     "text": [
      "word word word\n",
      "20\n",
      "Sunday Magazine Jumpis週間少年誌\n",
      "False\n",
      "True\n"
     ]
    }
   ],
   "source": [
    "class Word(object):\n",
    "    def __init__(self, text):\n",
    "        self.text = text\n",
    "\n",
    "    def __str__(self):\n",
    "        return 'word word word'\n",
    "    \n",
    "    def __len__(self):\n",
    "        return len(self.text)\n",
    "    \n",
    "    def __add__(self, other):\n",
    "        return self.text + 'is' + other.text\n",
    "    def __eq__(self, other):\n",
    "        return self.text == other.text\n",
    "    \n",
    "word = Word('Sunday Magazine Jump')\n",
    "other_word = Word('週間少年誌')\n",
    "other_word2 = Word('Sunday Magazine Jump')\n",
    "\n",
    "# __str__メソッドが呼び出される\n",
    "print(word)\n",
    "\n",
    "# __len__メソッドが呼び出される\n",
    "print(len(word))\n",
    "\n",
    "# __add__メソッドが呼び出される\n",
    "print(word + other_word)\n",
    "\n",
    "# __eq__メソッドが呼び出される\n",
    "print(word == other_word)\n",
    "print(word == other_word2)\n"
   ]
  },
  {
   "cell_type": "code",
   "execution_count": null,
   "metadata": {},
   "outputs": [],
   "source": []
  }
 ],
 "metadata": {
  "kernelspec": {
   "display_name": ".venv",
   "language": "python",
   "name": "python3"
  },
  "language_info": {
   "codemirror_mode": {
    "name": "ipython",
    "version": 3
   },
   "file_extension": ".py",
   "mimetype": "text/x-python",
   "name": "python",
   "nbconvert_exporter": "python",
   "pygments_lexer": "ipython3",
   "version": "3.11.3"
  }
 },
 "nbformat": 4,
 "nbformat_minor": 2
}
